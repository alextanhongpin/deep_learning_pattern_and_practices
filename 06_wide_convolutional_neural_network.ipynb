{
 "cells": [
  {
   "cell_type": "markdown",
   "id": "e392cb3f-3760-4734-b19f-495a2980a8c9",
   "metadata": {
    "tags": []
   },
   "source": [
    "# Wide Convolutional Neural Network"
   ]
  },
  {
   "cell_type": "markdown",
   "id": "235de605-6022-4215-b8f7-228b214daac6",
   "metadata": {},
   "source": [
    "A wide-layer design means having multiple convolutions in parallel and then concatenating their outputs.\n",
    "\n",
    "In constrast, deeper layers have sequential convolutions and aggregate their outputs."
   ]
  },
  {
   "cell_type": "markdown",
   "id": "aaae3d6d-06d5-41d2-a49c-938f10949333",
   "metadata": {},
   "source": [
    "### Inception v1"
   ]
  },
  {
   "cell_type": "markdown",
   "id": "f6181441-7e85-4b7a-ae56-dcdb912c679a",
   "metadata": {},
   "source": [
    "#### Naive inception module"
   ]
  },
  {
   "cell_type": "raw",
   "id": "6d96cc56-0b4e-4533-9150-1af26956d0fe",
   "metadata": {},
   "source": [
    "x1 = MaxPooling2D((3, 3), strides=(1, 1), padding=\"same\")(x)\n",
    "x2 = Conv2D(64, (1, 1), strides=(1, 1), padding=\"same\", activation=\"relu\")(x)\n",
    "x3 = Conv2D(96, (3, 3), strides=(1, 1), padding=\"same\", activation=\"relu\")(x)\n",
    "x4 = Conv2D(48, (5, 5), strides=(1, 1), padding=\"same\", activation=\"relu\")(x)\n",
    "\n",
    "# Concatenates the output of the four branch together.\n",
    "output = Concatenate()([x1, x2, x3, x4])"
   ]
  },
  {
   "cell_type": "markdown",
   "id": "9d826dda-87fa-4ea2-84c3-e36c896deef8",
   "metadata": {},
   "source": [
    "#### Inception v1 module\n",
    "\n",
    "Inception v1 introduced a further dimensionality reduction by adding a 1x1 bottleneck convolution to the pooling, 3x3 and 5x5 branches."
   ]
  },
  {
   "cell_type": "raw",
   "id": "bc95b1a5-1b27-4dc4-96ca-62f3eb2f0ae6",
   "metadata": {},
   "source": [
    "x1 = MaxPooling2D((3, 3), strides=(1, 1), padding=\"same\")(x)\n",
    "x1 = Conv2D(64, (1, 1), strides=(1, 1), padding=\"same\", activation=\"relu\")(x1)\n",
    "\n",
    "x2 = Conv2D(64, (1, 1), strides=(1, 1), padding=\"same\", activation=\"relu\")(x)\n",
    "\n",
    "x3 = Conv2D(64, (1, 1), strides=(1, 1), padding=\"same\", activation=\"relu\")(x)\n",
    "x3 = Conv2D(96, (3, 3), strides=(1, 1), padding=\"same\", activation=\"relu\")(x3)\n",
    "\n",
    "\n",
    "x4 = Conv2D(64, (1, 1), strides=(1, 1), padding=\"same\", activation=\"relu\")(x)\n",
    "x4 = Conv2D(48, (5, 5), strides=(1, 1), padding=\"same\", activation=\"relu\")(x4)\n",
    "\n",
    "x = Concatenate([x1, x2, x3, x4])"
   ]
  }
 ],
 "metadata": {
  "kernelspec": {
   "display_name": "Python 3 (ipykernel)",
   "language": "python",
   "name": "python3"
  },
  "language_info": {
   "codemirror_mode": {
    "name": "ipython",
    "version": 3
   },
   "file_extension": ".py",
   "mimetype": "text/x-python",
   "name": "python",
   "nbconvert_exporter": "python",
   "pygments_lexer": "ipython3",
   "version": "3.9.16"
  }
 },
 "nbformat": 4,
 "nbformat_minor": 5
}
