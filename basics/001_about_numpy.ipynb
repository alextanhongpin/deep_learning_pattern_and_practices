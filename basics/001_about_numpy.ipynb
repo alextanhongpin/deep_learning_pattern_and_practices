{
 "cells": [
  {
   "cell_type": "code",
   "execution_count": 10,
   "id": "81c62ff8-c8fc-48ce-9a5d-1def402b2c44",
   "metadata": {
    "tags": []
   },
   "outputs": [],
   "source": [
    "import numpy as np"
   ]
  },
  {
   "cell_type": "markdown",
   "id": "fd9063ab-1d7e-477c-9dfa-040cbb374b07",
   "metadata": {
    "tags": []
   },
   "source": [
    "# Precision"
   ]
  },
  {
   "cell_type": "code",
   "execution_count": 8,
   "id": "7a8a68a5-fa56-4f45-95cc-04117388dbec",
   "metadata": {
    "tags": []
   },
   "outputs": [
    {
     "data": {
      "text/plain": [
       "array([1, 2, 3])"
      ]
     },
     "execution_count": 8,
     "metadata": {},
     "output_type": "execute_result"
    }
   ],
   "source": [
    "numbers = np.array([1, 2, 3])\n",
    "numbers"
   ]
  },
  {
   "cell_type": "markdown",
   "id": "89f13167-dc1a-46eb-a137-b71bc5a8ba08",
   "metadata": {},
   "source": [
    "By default, `numpy` does floating-point operations as double-precision (64 bits)"
   ]
  },
  {
   "cell_type": "code",
   "execution_count": 3,
   "id": "6088d599-632b-46cd-b010-562826861dff",
   "metadata": {
    "tags": []
   },
   "outputs": [
    {
     "data": {
      "text/plain": [
       "(numpy.ndarray, numpy.int64)"
      ]
     },
     "execution_count": 3,
     "metadata": {},
     "output_type": "execute_result"
    }
   ],
   "source": [
    "type(numbers), type(numbers[0])"
   ]
  },
  {
   "cell_type": "code",
   "execution_count": 9,
   "id": "32c8e92f-fb98-4a81-b895-5e5cdf942297",
   "metadata": {
    "tags": []
   },
   "outputs": [
    {
     "data": {
      "text/plain": [
       "array([1, 2, 3])"
      ]
     },
     "execution_count": 9,
     "metadata": {},
     "output_type": "execute_result"
    }
   ],
   "source": [
    "numbers"
   ]
  },
  {
   "cell_type": "markdown",
   "id": "ad8582b9-b37e-49f5-92b8-20b47c3bb4ff",
   "metadata": {},
   "source": [
    "However, by default the parameters in `TF.Keras` model are single-precision floating-point (32 bits). 32-bits precision is generally more than enough for neural networks. Plus it runs faster and uses less RAM [^1].\n",
    "\n",
    "For efficiency, convert the np array to 32 bits by using the numpy `astype` method. Otherwise, the matrix multiplication would take double the number of machine cycles (64 x 32 instead of 32 x 32).\n",
    "\n",
    "[^1]: https://stackoverflow.com/questions/60044519/convert-a-tensor-into-numpy-array-but-with-higher-precision#:~:text=This%20is%20because%2032%2Dbit%20precision%20is%20generally%20more%20than%20enough%20for%20neural%20networks%2C%20plus%20it%20runs%20faster%20and%20uses%20less%20RAM."
   ]
  },
  {
   "cell_type": "code",
   "execution_count": 7,
   "id": "5dc13820-4754-4696-931e-0d5505755fe1",
   "metadata": {
    "tags": []
   },
   "outputs": [
    {
     "data": {
      "text/plain": [
       "array([1., 2., 3.], dtype=float32)"
      ]
     },
     "execution_count": 7,
     "metadata": {},
     "output_type": "execute_result"
    }
   ],
   "source": [
    "numbers.astype(\"float32\")"
   ]
  }
 ],
 "metadata": {
  "kernelspec": {
   "display_name": "Python 3 (ipykernel)",
   "language": "python",
   "name": "python3"
  },
  "language_info": {
   "codemirror_mode": {
    "name": "ipython",
    "version": 3
   },
   "file_extension": ".py",
   "mimetype": "text/x-python",
   "name": "python",
   "nbconvert_exporter": "python",
   "pygments_lexer": "ipython3",
   "version": "3.9.16"
  }
 },
 "nbformat": 4,
 "nbformat_minor": 5
}
