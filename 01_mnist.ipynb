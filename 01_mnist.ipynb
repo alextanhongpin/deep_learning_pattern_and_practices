{
 "cells": [
  {
   "cell_type": "code",
   "execution_count": 1,
   "id": "0841ad46-9185-45e8-ab7c-8d4c005cc673",
   "metadata": {
    "tags": []
   },
   "outputs": [
    {
     "name": "stderr",
     "output_type": "stream",
     "text": [
      "2023-02-22 17:00:28.449372: I tensorflow/core/platform/cpu_feature_guard.cc:193] This TensorFlow binary is optimized with oneAPI Deep Neural Network Library (oneDNN) to use the following CPU instructions in performance-critical operations:  AVX2 FMA\n",
      "To enable them in other operations, rebuild TensorFlow with the appropriate compiler flags.\n"
     ]
    }
   ],
   "source": [
    "import numpy as np\n",
    "import tensorflowjs as tfjs\n",
    "from tensorflow.keras import Sequential\n",
    "from tensorflow.keras.layers import Dense, Flatten"
   ]
  },
  {
   "cell_type": "markdown",
   "id": "eee0fe82-39ee-4578-a196-7fb65609cf9a",
   "metadata": {},
   "source": [
    "# MNIST with simple DNN"
   ]
  },
  {
   "cell_type": "code",
   "execution_count": 2,
   "id": "dfea0eb3-7c32-4472-9d6c-b6ce067bb523",
   "metadata": {
    "tags": []
   },
   "outputs": [],
   "source": [
    "model = Sequential()\n",
    "model.add(Flatten(input_shape=(28, 28)))  # Shape of the MNIST image is 28 x 28px\n",
    "model.add(Dense(512, activation=\"relu\"))\n",
    "model.add(Dense(512, activation=\"relu\"))\n",
    "model.add(Dense(10, activation=\"softmax\"))\n",
    "model.compile(loss=\"sparse_categorical_crossentropy\", optimizer=\"adam\", metrics=[\"acc\"])"
   ]
  },
  {
   "cell_type": "code",
   "execution_count": 3,
   "id": "f88d91d7-46e3-4542-a04b-7cb32f6abc2e",
   "metadata": {
    "tags": []
   },
   "outputs": [],
   "source": [
    "from tensorflow.keras.datasets import mnist\n",
    "\n",
    "(X_train, y_train), (X_test, y_test) = mnist.load_data()\n",
    "X_train = (X_train / 255.0).astype(\"float32\")  # Convert from 64-bits to 32 bits.\n",
    "X_test = (X_test / 255.0).astype(\"float32\")"
   ]
  },
  {
   "cell_type": "markdown",
   "id": "10c540c0-d8d8-46ee-972f-622d44628501",
   "metadata": {},
   "source": [
    "Note the normalization of the integer (pixes 0-255 to 0-1.0) and the conversion from 64-bits to 32-bits.\n",
    "See [here](basics/001_about_numpy.ipynb) to understand why we cast the type."
   ]
  },
  {
   "cell_type": "code",
   "execution_count": 4,
   "id": "1445ae7f-fc38-47dd-bf4b-0f19aab8715e",
   "metadata": {
    "tags": []
   },
   "outputs": [
    {
     "name": "stdout",
     "output_type": "stream",
     "text": [
      "Epoch 1/10\n",
      "1875/1875 [==============================] - 25s 12ms/step - loss: 0.1817 - acc: 0.9444\n",
      "Epoch 2/10\n",
      "1875/1875 [==============================] - 18s 9ms/step - loss: 0.0815 - acc: 0.9746\n",
      "Epoch 3/10\n",
      "1875/1875 [==============================] - 13s 7ms/step - loss: 0.0552 - acc: 0.9823\n",
      "Epoch 4/10\n",
      "1875/1875 [==============================] - 14s 7ms/step - loss: 0.0442 - acc: 0.9862\n",
      "Epoch 5/10\n",
      "1875/1875 [==============================] - 14s 8ms/step - loss: 0.0360 - acc: 0.9882\n",
      "Epoch 6/10\n",
      "1875/1875 [==============================] - 12s 6ms/step - loss: 0.0298 - acc: 0.9905\n",
      "Epoch 7/10\n",
      "1875/1875 [==============================] - 12s 6ms/step - loss: 0.0254 - acc: 0.9920\n",
      "Epoch 8/10\n",
      "1875/1875 [==============================] - 13s 7ms/step - loss: 0.0241 - acc: 0.9930\n",
      "Epoch 9/10\n",
      "1875/1875 [==============================] - 15s 8ms/step - loss: 0.0203 - acc: 0.9939\n",
      "Epoch 10/10\n",
      "1875/1875 [==============================] - 25s 13ms/step - loss: 0.0174 - acc: 0.9944\n"
     ]
    },
    {
     "data": {
      "text/plain": [
       "<keras.callbacks.History at 0x129c28580>"
      ]
     },
     "execution_count": 4,
     "metadata": {},
     "output_type": "execute_result"
    }
   ],
   "source": [
    "model.fit(X_train, y_train, epochs=10)"
   ]
  },
  {
   "cell_type": "code",
   "execution_count": 6,
   "id": "2686d294-80e5-4159-872c-3ebba2ad08d4",
   "metadata": {
    "tags": []
   },
   "outputs": [
    {
     "name": "stdout",
     "output_type": "stream",
     "text": [
      "313/313 [==============================] - 1s 3ms/step - loss: 0.1046 - acc: 0.9805\n"
     ]
    },
    {
     "data": {
      "text/plain": [
       "[0.10456586629152298, 0.9804999828338623]"
      ]
     },
     "execution_count": 6,
     "metadata": {},
     "output_type": "execute_result"
    }
   ],
   "source": [
    "model.evaluate(X_test, y_test)"
   ]
  },
  {
   "cell_type": "code",
   "execution_count": 6,
   "id": "71e67556-f841-470f-b754-5f8de73e7ee1",
   "metadata": {
    "tags": []
   },
   "outputs": [],
   "source": [
    "# Save to tensorflow.js compatible model format.\n",
    "tfjs.converters.save_keras_model(model, \"model\")"
   ]
  },
  {
   "cell_type": "code",
   "execution_count": 7,
   "id": "846fe3c7-92e4-4396-ba9a-76c870ead2d8",
   "metadata": {
    "tags": []
   },
   "outputs": [],
   "source": [
    "import matplotlib.pyplot as plt"
   ]
  },
  {
   "cell_type": "code",
   "execution_count": 8,
   "id": "8c339a16-3046-46b2-916c-86db2a76c94a",
   "metadata": {
    "tags": []
   },
   "outputs": [
    {
     "data": {
      "text/plain": [
       "(28, 28)"
      ]
     },
     "execution_count": 8,
     "metadata": {},
     "output_type": "execute_result"
    }
   ],
   "source": [
    "# The test data is a 28 x 28px pixels image.\n",
    "X_test[0].shape"
   ]
  },
  {
   "cell_type": "code",
   "execution_count": 21,
   "id": "42a0ea3c-6ef1-4067-8220-c4b97a8e9330",
   "metadata": {
    "tags": []
   },
   "outputs": [
    {
     "data": {
      "text/plain": [
       "(<matplotlib.image.AxesImage at 0x12f3ac910>, 7)"
      ]
     },
     "execution_count": 21,
     "metadata": {},
     "output_type": "execute_result"
    },
    {
     "data": {
      "image/png": "[encoded data removed]",
      "text/plain": [
       "<Figure size 432x288 with 1 Axes>"
      ]
     },
     "metadata": {
      "needs_background": "light"
     },
     "output_type": "display_data"
    }
   ],
   "source": [
    "plt.imshow(X_test[0]), y_test[0]"
   ]
  },
  {
   "cell_type": "code",
   "execution_count": 41,
   "id": "6f9377ad-9e0a-4162-91cb-e6b15edc65ab",
   "metadata": {
    "tags": []
   },
   "outputs": [
    {
     "data": {
      "text/plain": [
       "array([[3.1793539e-21, 1.3493487e-14, 5.3128968e-19, 3.9093845e-12,\n",
       "        1.7087958e-16, 3.0913651e-22, 1.1455523e-23, 1.0000000e+00,\n",
       "        7.0237238e-18, 3.3932559e-12]], dtype=float32)"
      ]
     },
     "execution_count": 41,
     "metadata": {},
     "output_type": "execute_result"
    }
   ],
   "source": [
    "y_pred = model.predict(np.array([X_test[0]]))\n",
    "y_pred"
   ]
  },
  {
   "cell_type": "code",
   "execution_count": 42,
   "id": "d690f966-05b1-4401-8257-074ec0a5d83a",
   "metadata": {
    "tags": []
   },
   "outputs": [
    {
     "data": {
      "text/plain": [
       "7"
      ]
     },
     "execution_count": 42,
     "metadata": {},
     "output_type": "execute_result"
    }
   ],
   "source": [
    "np.argmax(y_pred)"
   ]
  },
  {
   "cell_type": "markdown",
   "id": "337ddc8d-fa8d-4c39-af19-52ced6c649bc",
   "metadata": {
    "tags": []
   },
   "source": [
    "# MNIST with simple CNN"
   ]
  },
  {
   "cell_type": "code",
   "execution_count": 43,
   "id": "ee5f246c-526f-4efc-af8c-7453ac04b4c0",
   "metadata": {
    "tags": []
   },
   "outputs": [],
   "source": [
    "import numpy as np\n",
    "from tensorflow.keras import Model\n",
    "from tensorflow.keras.layers import Conv2D, Dense, Flatten, MaxPooling2D"
   ]
  },
  {
   "cell_type": "code",
   "execution_count": 44,
   "id": "084fa9d2-29ce-4c2c-b918-f42709862937",
   "metadata": {
    "tags": []
   },
   "outputs": [],
   "source": [
    "model = Sequential()\n",
    "model.add(Conv2D(32, (3, 3), activation=\"relu\", input_shape=(28, 28, 1)))\n",
    "model.add(MaxPooling2D((2, 2)))\n",
    "model.add(Flatten())\n",
    "model.add(Dense(10, activation=\"softmax\"))\n",
    "model.compile(loss=\"sparse_categorical_crossentropy\", optimizer=\"adam\", metrics=[\"acc\"])"
   ]
  },
  {
   "cell_type": "code",
   "execution_count": 45,
   "id": "8f12106c-4392-4f89-b5de-70997a0a9a2e",
   "metadata": {
    "tags": []
   },
   "outputs": [
    {
     "name": "stdout",
     "output_type": "stream",
     "text": [
      "Epoch 1/10\n",
      "1688/1688 [==============================] - 15s 8ms/step - loss: 0.2426 - acc: 0.9324 - val_loss: 0.0909 - val_acc: 0.9742\n",
      "Epoch 2/10\n",
      "1688/1688 [==============================] - 13s 8ms/step - loss: 0.0882 - acc: 0.9744 - val_loss: 0.0682 - val_acc: 0.9818\n",
      "Epoch 3/10\n",
      "1688/1688 [==============================] - 15s 9ms/step - loss: 0.0662 - acc: 0.9804 - val_loss: 0.0585 - val_acc: 0.9822\n",
      "Epoch 4/10\n",
      "1688/1688 [==============================] - 17s 10ms/step - loss: 0.0545 - acc: 0.9837 - val_loss: 0.0695 - val_acc: 0.9808\n",
      "Epoch 5/10\n",
      "1688/1688 [==============================] - 16s 10ms/step - loss: 0.0455 - acc: 0.9861 - val_loss: 0.0549 - val_acc: 0.9855\n",
      "Epoch 6/10\n",
      "1688/1688 [==============================] - 20s 12ms/step - loss: 0.0392 - acc: 0.9882 - val_loss: 0.0503 - val_acc: 0.9872\n",
      "Epoch 7/10\n",
      "1688/1688 [==============================] - 16s 10ms/step - loss: 0.0336 - acc: 0.9897 - val_loss: 0.0513 - val_acc: 0.9857\n",
      "Epoch 8/10\n",
      "1688/1688 [==============================] - 14s 8ms/step - loss: 0.0286 - acc: 0.9912 - val_loss: 0.0576 - val_acc: 0.9857\n",
      "Epoch 9/10\n",
      "1688/1688 [==============================] - 13s 8ms/step - loss: 0.0245 - acc: 0.9928 - val_loss: 0.0602 - val_acc: 0.9857\n",
      "Epoch 10/10\n",
      "1688/1688 [==============================] - 14s 8ms/step - loss: 0.0218 - acc: 0.9931 - val_loss: 0.0581 - val_acc: 0.9858\n"
     ]
    },
    {
     "data": {
      "text/plain": [
       "<keras.callbacks.History at 0x150461490>"
      ]
     },
     "execution_count": 45,
     "metadata": {},
     "output_type": "execute_result"
    }
   ],
   "source": [
    "# Use 10% of training data for validation - not trained on.\n",
    "model.fit(X_train, y_train, epochs=10, validation_split=0.1)"
   ]
  },
  {
   "cell_type": "code",
   "execution_count": 46,
   "id": "b5e4e3c3-c84a-45b8-9830-35d9346a5845",
   "metadata": {
    "tags": []
   },
   "outputs": [
    {
     "name": "stdout",
     "output_type": "stream",
     "text": [
      "313/313 [==============================] - 2s 5ms/step - loss: 0.0564 - acc: 0.9830\n"
     ]
    },
    {
     "data": {
      "text/plain": [
       "(0.05636397749185562, 0.9829999804496765)"
      ]
     },
     "execution_count": 46,
     "metadata": {},
     "output_type": "execute_result"
    }
   ],
   "source": [
    "loss, acc = model.evaluate(X_test, y_test)\n",
    "loss, acc"
   ]
  },
  {
   "cell_type": "code",
   "execution_count": 47,
   "id": "68701e4c-f0a7-4f0f-ace9-286718f28e7a",
   "metadata": {
    "tags": []
   },
   "outputs": [
    {
     "data": {
      "text/plain": [
       "array([[2.2540612e-11, 4.9295686e-08, 1.0635391e-08, 1.1779280e-06,\n",
       "        8.1794259e-12, 2.5191283e-11, 6.1459491e-18, 9.9999881e-01,\n",
       "        6.1119012e-09, 4.8737736e-08]], dtype=float32)"
      ]
     },
     "execution_count": 47,
     "metadata": {},
     "output_type": "execute_result"
    }
   ],
   "source": [
    "y_pred = model.predict(np.array([X_test[0]]))\n",
    "y_pred"
   ]
  },
  {
   "cell_type": "code",
   "execution_count": 49,
   "id": "dad57e3a-a891-498c-80bf-0ebf9e603155",
   "metadata": {
    "tags": []
   },
   "outputs": [
    {
     "data": {
      "text/plain": [
       "7"
      ]
     },
     "execution_count": 49,
     "metadata": {},
     "output_type": "execute_result"
    }
   ],
   "source": [
    "np.argmax(y_pred)"
   ]
  }
 ],
 "metadata": {
  "kernelspec": {
   "display_name": "Python 3 (ipykernel)",
   "language": "python",
   "name": "python3"
  },
  "language_info": {
   "codemirror_mode": {
    "name": "ipython",
    "version": 3
   },
   "file_extension": ".py",
   "mimetype": "text/x-python",
   "name": "python",
   "nbconvert_exporter": "python",
   "pygments_lexer": "ipython3",
   "version": "3.9.16"
  }
 },
 "nbformat": 4,
 "nbformat_minor": 5
}
