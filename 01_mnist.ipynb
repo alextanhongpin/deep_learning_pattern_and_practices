{
 "cells": [
  {
   "cell_type": "code",
   "execution_count": 6,
   "id": "0841ad46-9185-45e8-ab7c-8d4c005cc673",
   "metadata": {
    "tags": []
   },
   "outputs": [],
   "source": [
    "import numpy as np\n",
    "import tensorflowjs as tfjs\n",
    "from tensorflow.keras import Sequential\n",
    "from tensorflow.keras.layers import Dense, Flatten"
   ]
  },
  {
   "cell_type": "markdown",
   "id": "eee0fe82-39ee-4578-a196-7fb65609cf9a",
   "metadata": {},
   "source": [
    "# MNIST with simple DNN"
   ]
  },
  {
   "cell_type": "code",
   "execution_count": 2,
   "id": "dfea0eb3-7c32-4472-9d6c-b6ce067bb523",
   "metadata": {
    "tags": []
   },
   "outputs": [],
   "source": [
    "model = Sequential()\n",
    "model.add(Flatten(input_shape=(28, 28)))  # Shape of the MNIST image is 28 x 28px\n",
    "model.add(Dense(512, activation=\"relu\"))\n",
    "model.add(Dense(512, activation=\"relu\"))\n",
    "model.add(Dense(10, activation=\"softmax\"))\n",
    "model.compile(loss=\"sparse_categorical_crossentropy\", optimizer=\"adam\", metrics=[\"acc\"])"
   ]
  },
  {
   "cell_type": "code",
   "execution_count": 7,
   "id": "f88d91d7-46e3-4542-a04b-7cb32f6abc2e",
   "metadata": {
    "tags": []
   },
   "outputs": [],
   "source": [
    "from tensorflow.keras.datasets import mnist\n",
    "\n",
    "(X_train, y_train), (X_test, y_test) = mnist.load_data()\n",
    "X_train = (X_train / 255.0).astype(\"float32\")  # Convert from 64-bits to 32 bits.\n",
    "X_test = (X_test / 255.0).astype(\"float32\")"
   ]
  },
  {
   "cell_type": "markdown",
   "id": "10c540c0-d8d8-46ee-972f-622d44628501",
   "metadata": {},
   "source": [
    "Note the normalization of the integer (pixes 0-255 to 0-1.0) and the conversion from 64-bits to 32-bits.\n",
    "See [here](basics/001_about_numpy.ipynb) to understand why we cast the type."
   ]
  },
  {
   "cell_type": "code",
   "execution_count": 4,
   "id": "1445ae7f-fc38-47dd-bf4b-0f19aab8715e",
   "metadata": {
    "tags": []
   },
   "outputs": [
    {
     "name": "stdout",
     "output_type": "stream",
     "text": [
      "Epoch 1/10\n",
      "1875/1875 [==============================] - 25s 12ms/step - loss: 0.1817 - acc: 0.9444\n",
      "Epoch 2/10\n",
      "1875/1875 [==============================] - 18s 9ms/step - loss: 0.0815 - acc: 0.9746\n",
      "Epoch 3/10\n",
      "1875/1875 [==============================] - 13s 7ms/step - loss: 0.0552 - acc: 0.9823\n",
      "Epoch 4/10\n",
      "1875/1875 [==============================] - 14s 7ms/step - loss: 0.0442 - acc: 0.9862\n",
      "Epoch 5/10\n",
      "1875/1875 [==============================] - 14s 8ms/step - loss: 0.0360 - acc: 0.9882\n",
      "Epoch 6/10\n",
      "1875/1875 [==============================] - 12s 6ms/step - loss: 0.0298 - acc: 0.9905\n",
      "Epoch 7/10\n",
      "1875/1875 [==============================] - 12s 6ms/step - loss: 0.0254 - acc: 0.9920\n",
      "Epoch 8/10\n",
      "1875/1875 [==============================] - 13s 7ms/step - loss: 0.0241 - acc: 0.9930\n",
      "Epoch 9/10\n",
      "1875/1875 [==============================] - 15s 8ms/step - loss: 0.0203 - acc: 0.9939\n",
      "Epoch 10/10\n",
      "1875/1875 [==============================] - 25s 13ms/step - loss: 0.0174 - acc: 0.9944\n"
     ]
    },
    {
     "data": {
      "text/plain": [
       "<keras.callbacks.History at 0x129c28580>"
      ]
     },
     "execution_count": 4,
     "metadata": {},
     "output_type": "execute_result"
    }
   ],
   "source": [
    "model.fit(X_train, y_train, epochs=10)"
   ]
  },
  {
   "cell_type": "code",
   "execution_count": 6,
   "id": "2686d294-80e5-4159-872c-3ebba2ad08d4",
   "metadata": {
    "tags": []
   },
   "outputs": [
    {
     "name": "stdout",
     "output_type": "stream",
     "text": [
      "313/313 [==============================] - 1s 3ms/step - loss: 0.1046 - acc: 0.9805\n"
     ]
    },
    {
     "data": {
      "text/plain": [
       "[0.10456586629152298, 0.9804999828338623]"
      ]
     },
     "execution_count": 6,
     "metadata": {},
     "output_type": "execute_result"
    }
   ],
   "source": [
    "model.evaluate(X_test, y_test)"
   ]
  },
  {
   "cell_type": "code",
   "execution_count": 6,
   "id": "71e67556-f841-470f-b754-5f8de73e7ee1",
   "metadata": {
    "tags": []
   },
   "outputs": [],
   "source": [
    "# Save to tensorflow.js compatible model format.\n",
    "tfjs.converters.save_keras_model(model, \"model\")"
   ]
  },
  {
   "cell_type": "code",
   "execution_count": 7,
   "id": "846fe3c7-92e4-4396-ba9a-76c870ead2d8",
   "metadata": {
    "tags": []
   },
   "outputs": [],
   "source": [
    "import matplotlib.pyplot as plt"
   ]
  },
  {
   "cell_type": "code",
   "execution_count": 8,
   "id": "8c339a16-3046-46b2-916c-86db2a76c94a",
   "metadata": {
    "tags": []
   },
   "outputs": [
    {
     "data": {
      "text/plain": [
       "(28, 28)"
      ]
     },
     "execution_count": 8,
     "metadata": {},
     "output_type": "execute_result"
    }
   ],
   "source": [
    "# The test data is a 28 x 28px pixels image.\n",
    "X_test[0].shape"
   ]
  },
  {
   "cell_type": "code",
   "execution_count": 21,
   "id": "42a0ea3c-6ef1-4067-8220-c4b97a8e9330",
   "metadata": {
    "tags": []
   },
   "outputs": [
    {
     "data": {
      "text/plain": [
       "(<matplotlib.image.AxesImage at 0x12f3ac910>, 7)"
      ]
     },
     "execution_count": 21,
     "metadata": {},
     "output_type": "execute_result"
    },
    {
     "data": {
      "image/png": "[encoded data removed]",
      "text/plain": [
       "<Figure size 432x288 with 1 Axes>"
      ]
     },
     "metadata": {
      "needs_background": "light"
     },
     "output_type": "display_data"
    }
   ],
   "source": [
    "plt.imshow(X_test[0]), y_test[0]"
   ]
  },
  {
   "cell_type": "code",
   "execution_count": 41,
   "id": "6f9377ad-9e0a-4162-91cb-e6b15edc65ab",
   "metadata": {
    "tags": []
   },
   "outputs": [
    {
     "data": {
      "text/plain": [
       "array([[3.1793539e-21, 1.3493487e-14, 5.3128968e-19, 3.9093845e-12,\n",
       "        1.7087958e-16, 3.0913651e-22, 1.1455523e-23, 1.0000000e+00,\n",
       "        7.0237238e-18, 3.3932559e-12]], dtype=float32)"
      ]
     },
     "execution_count": 41,
     "metadata": {},
     "output_type": "execute_result"
    }
   ],
   "source": [
    "y_pred = model.predict(np.array([X_test[0]]))\n",
    "y_pred"
   ]
  },
  {
   "cell_type": "code",
   "execution_count": 42,
   "id": "d690f966-05b1-4401-8257-074ec0a5d83a",
   "metadata": {
    "tags": []
   },
   "outputs": [
    {
     "data": {
      "text/plain": [
       "7"
      ]
     },
     "execution_count": 42,
     "metadata": {},
     "output_type": "execute_result"
    }
   ],
   "source": [
    "np.argmax(y_pred)"
   ]
  },
  {
   "cell_type": "markdown",
   "id": "337ddc8d-fa8d-4c39-af19-52ced6c649bc",
   "metadata": {
    "tags": []
   },
   "source": [
    "# MNIST with simple CNN"
   ]
  },
  {
   "cell_type": "code",
   "execution_count": 3,
   "id": "ee5f246c-526f-4efc-af8c-7453ac04b4c0",
   "metadata": {
    "tags": []
   },
   "outputs": [],
   "source": [
    "import os\n",
    "\n",
    "import numpy as np\n",
    "import tensorflowjs as tfjs\n",
    "from tensorflow.keras import Model, models\n",
    "from tensorflow.keras.layers import Conv2D, Dense, Flatten, MaxPooling2D"
   ]
  },
  {
   "cell_type": "code",
   "execution_count": 4,
   "id": "c9e0aa91-90f3-4f20-a87d-c3c54af7c4a8",
   "metadata": {
    "tags": []
   },
   "outputs": [
    {
     "name": "stdout",
     "output_type": "stream",
     "text": [
      "Model: \"sequential_1\"\n",
      "_________________________________________________________________\n",
      " Layer (type)                Output Shape              Param #   \n",
      "=================================================================\n",
      " conv2d_1 (Conv2D)           (None, 26, 26, 32)        320       \n",
      "                                                                 \n",
      " max_pooling2d_1 (MaxPooling  (None, 13, 13, 32)       0         \n",
      " 2D)                                                             \n",
      "                                                                 \n",
      " flatten_1 (Flatten)         (None, 5408)              0         \n",
      "                                                                 \n",
      " dense_1 (Dense)             (None, 10)                54090     \n",
      "                                                                 \n",
      "=================================================================\n",
      "Total params: 54,410\n",
      "Trainable params: 54,410\n",
      "Non-trainable params: 0\n",
      "_________________________________________________________________\n"
     ]
    }
   ],
   "source": [
    "if os.path.exists(\"mnist\"):\n",
    "    model = models.load_model(\"mnist\")\n",
    "model.summary()"
   ]
  },
  {
   "cell_type": "code",
   "execution_count": 6,
   "id": "084fa9d2-29ce-4c2c-b918-f42709862937",
   "metadata": {
    "tags": []
   },
   "outputs": [],
   "source": [
    "model = Sequential()\n",
    "model.add(Conv2D(32, (3, 3), activation=\"relu\", input_shape=(28, 28, 1)))\n",
    "model.add(MaxPooling2D((2, 2)))\n",
    "model.add(Flatten())\n",
    "model.add(Dense(10, activation=\"softmax\"))\n",
    "model.compile(loss=\"sparse_categorical_crossentropy\", optimizer=\"adam\", metrics=[\"acc\"])"
   ]
  },
  {
   "cell_type": "code",
   "execution_count": 7,
   "id": "8f12106c-4392-4f89-b5de-70997a0a9a2e",
   "metadata": {
    "tags": []
   },
   "outputs": [
    {
     "name": "stdout",
     "output_type": "stream",
     "text": [
      "Epoch 1/10\n",
      "1688/1688 [==============================] - 18s 10ms/step - loss: 0.2255 - acc: 0.9363 - val_loss: 0.0851 - val_acc: 0.9770\n",
      "Epoch 2/10\n",
      "1688/1688 [==============================] - 23s 14ms/step - loss: 0.0854 - acc: 0.9752 - val_loss: 0.0719 - val_acc: 0.9807\n",
      "Epoch 3/10\n",
      "1688/1688 [==============================] - 20s 12ms/step - loss: 0.0632 - acc: 0.9814 - val_loss: 0.0588 - val_acc: 0.9848\n",
      "Epoch 4/10\n",
      "1688/1688 [==============================] - 16s 9ms/step - loss: 0.0523 - acc: 0.9843 - val_loss: 0.0574 - val_acc: 0.9842\n",
      "Epoch 5/10\n",
      "1688/1688 [==============================] - 15s 9ms/step - loss: 0.0444 - acc: 0.9864 - val_loss: 0.0550 - val_acc: 0.9850\n",
      "Epoch 6/10\n",
      "1688/1688 [==============================] - 18s 11ms/step - loss: 0.0391 - acc: 0.9875 - val_loss: 0.0567 - val_acc: 0.9862\n",
      "Epoch 7/10\n",
      "1688/1688 [==============================] - 18s 10ms/step - loss: 0.0336 - acc: 0.9895 - val_loss: 0.0577 - val_acc: 0.9840\n",
      "Epoch 8/10\n",
      "1688/1688 [==============================] - 26s 15ms/step - loss: 0.0286 - acc: 0.9911 - val_loss: 0.0585 - val_acc: 0.9852\n",
      "Epoch 9/10\n",
      "1688/1688 [==============================] - 22s 13ms/step - loss: 0.0251 - acc: 0.9922 - val_loss: 0.0581 - val_acc: 0.9882\n",
      "Epoch 10/10\n",
      "1688/1688 [==============================] - 20s 12ms/step - loss: 0.0219 - acc: 0.9930 - val_loss: 0.0590 - val_acc: 0.9877\n"
     ]
    },
    {
     "data": {
      "text/plain": [
       "<keras.callbacks.History at 0x12cc9e1f0>"
      ]
     },
     "execution_count": 7,
     "metadata": {},
     "output_type": "execute_result"
    }
   ],
   "source": [
    "# Use 10% of training data for validation - not trained on.\n",
    "model.fit(X_train, y_train, epochs=10, validation_split=0.1)"
   ]
  },
  {
   "cell_type": "code",
   "execution_count": 6,
   "id": "b5e4e3c3-c84a-45b8-9830-35d9346a5845",
   "metadata": {
    "tags": []
   },
   "outputs": [
    {
     "name": "stdout",
     "output_type": "stream",
     "text": [
      "313/313 [==============================] - 2s 5ms/step - loss: 0.0586 - acc: 0.9838\n"
     ]
    },
    {
     "data": {
      "text/plain": [
       "(0.05862118676304817, 0.9837999939918518)"
      ]
     },
     "execution_count": 6,
     "metadata": {},
     "output_type": "execute_result"
    }
   ],
   "source": [
    "loss, acc = model.evaluate(X_test, y_test)\n",
    "loss, acc"
   ]
  },
  {
   "cell_type": "code",
   "execution_count": 9,
   "id": "68701e4c-f0a7-4f0f-ace9-286718f28e7a",
   "metadata": {
    "tags": []
   },
   "outputs": [
    {
     "name": "stdout",
     "output_type": "stream",
     "text": [
      "1/1 [==============================] - 0s 53ms/step\n"
     ]
    },
    {
     "data": {
      "text/plain": [
       "array([[1.3190038e-11, 6.4454966e-09, 5.5039138e-08, 1.6095122e-06,\n",
       "        9.4495011e-12, 3.2956277e-11, 7.9845082e-19, 9.9999821e-01,\n",
       "        2.6797752e-08, 1.0140601e-07]], dtype=float32)"
      ]
     },
     "execution_count": 9,
     "metadata": {},
     "output_type": "execute_result"
    }
   ],
   "source": [
    "y_pred = model.predict(np.array([X_test[0]]))\n",
    "y_pred"
   ]
  },
  {
   "cell_type": "code",
   "execution_count": 8,
   "id": "dad57e3a-a891-498c-80bf-0ebf9e603155",
   "metadata": {
    "tags": []
   },
   "outputs": [
    {
     "data": {
      "text/plain": [
       "7"
      ]
     },
     "execution_count": 8,
     "metadata": {},
     "output_type": "execute_result"
    }
   ],
   "source": [
    "np.argmax(y_pred)"
   ]
  },
  {
   "cell_type": "code",
   "execution_count": 113,
   "id": "614997ba-269b-4b60-8819-5a46ed1b66e4",
   "metadata": {
    "tags": []
   },
   "outputs": [],
   "source": [
    "# Save to tensorflow.js compatible model format.\n",
    "tfjs.converters.save_keras_model(model, \"model\")"
   ]
  },
  {
   "cell_type": "code",
   "execution_count": 9,
   "id": "0481fb13-8a2e-405c-851f-40cfd4681037",
   "metadata": {},
   "outputs": [
    {
     "name": "stderr",
     "output_type": "stream",
     "text": [
      "WARNING:absl:Found untraced functions such as _jit_compiled_convolution_op, _update_step_xla while saving (showing 2 of 2). These functions will not be directly callable after loading.\n"
     ]
    },
    {
     "name": "stdout",
     "output_type": "stream",
     "text": [
      "INFO:tensorflow:Assets written to: mnist/assets\n"
     ]
    },
    {
     "name": "stderr",
     "output_type": "stream",
     "text": [
      "INFO:tensorflow:Assets written to: mnist/assets\n"
     ]
    }
   ],
   "source": [
    "model.save(\"mnist\")"
   ]
  },
  {
   "cell_type": "code",
   "execution_count": 12,
   "id": "3aa7628d-dada-4df4-b9fc-5cfad35c089a",
   "metadata": {
    "tags": []
   },
   "outputs": [
    {
     "data": {
      "image/png": "[encoded data removed]",
      "text/plain": [
       "<PIL.PngImagePlugin.PngImageFile image mode=RGBA size=200x200>"
      ]
     },
     "execution_count": 12,
     "metadata": {},
     "output_type": "execute_result"
    }
   ],
   "source": [
    "import matplotlib.pyplot as plt\n",
    "import PIL\n",
    "from PIL import Image\n",
    "\n",
    "img = Image.open(\"three.png\")\n",
    "img"
   ]
  },
  {
   "cell_type": "code",
   "execution_count": 13,
   "id": "445c10e1-0e9e-425b-98fd-be65db71f1d1",
   "metadata": {
    "tags": []
   },
   "outputs": [],
   "source": [
    "def remove_transparency(im, bg_color=(255, 255, 255)):\n",
    "    # Only process if image has transparency.\n",
    "    if im.mode in (\"RGBA\", \"LA\") or (im.mode == \"P\" and \"transparency\" in im.info):\n",
    "        # Need to convert to RGBA if LA format due to a bug in PIL.\n",
    "        alpha = im.convert(\"RGBA\").split()[-1]\n",
    "\n",
    "        # Create a new background image.\n",
    "        bg = Image.new(\"RGBA\", im.size, bg_color + (255,))\n",
    "        bg.paste(im, mask=alpha)\n",
    "        return bg\n",
    "    else:\n",
    "        return im"
   ]
  },
  {
   "cell_type": "code",
   "execution_count": 19,
   "id": "bc4f28a2-6ca4-4292-81bf-c948793b3c37",
   "metadata": {
    "tags": []
   },
   "outputs": [
    {
     "data": {
      "text/plain": [
       "<matplotlib.image.AxesImage at 0x15bfda760>"
      ]
     },
     "execution_count": 19,
     "metadata": {},
     "output_type": "execute_result"
    },
    {
     "data": {
      "image/png": "[encoded data removed]",
      "text/plain": [
       "<Figure size 432x288 with 1 Axes>"
      ]
     },
     "metadata": {
      "needs_background": "light"
     },
     "output_type": "display_data"
    }
   ],
   "source": [
    "# Resize the image to fit the input size 28 x 28px.\n",
    "img = img.resize((28, 28))\n",
    "\n",
    "# Convert image to grayscale (removing transparency)\n",
    "# See https://stackoverflow.com/questions/44997339/convert-python-image-to-single-channel-from-rgb-using-pil-or-scipy\n",
    "gray = remove_transparency(img).convert(\"L\")\n",
    "plt.imshow(gray, cmap=plt.cm.gray)"
   ]
  },
  {
   "cell_type": "code",
   "execution_count": 20,
   "id": "5feea41e-ab9b-451f-851c-9fcf4429b02a",
   "metadata": {
    "tags": []
   },
   "outputs": [
    {
     "data": {
      "text/plain": [
       "(1, 28, 28, 1)"
      ]
     },
     "execution_count": 20,
     "metadata": {},
     "output_type": "execute_result"
    }
   ],
   "source": [
    "import tensorflow as tf\n",
    "\n",
    "x = tf.keras.utils.img_to_array(gray)\n",
    "x = 255 - x\n",
    "x = x / 255\n",
    "# x = tf.expand_dims(x, 0)  # Convert to 4d Tensor\n",
    "x = x[np.newaxis, ...]  # Similar to expand_dims\n",
    "x.shape"
   ]
  },
  {
   "cell_type": "code",
   "execution_count": 21,
   "id": "ab4dca4f-34c4-4e7f-9ff5-7f0a5f71d96b",
   "metadata": {
    "tags": []
   },
   "outputs": [
    {
     "name": "stdout",
     "output_type": "stream",
     "text": [
      "1/1 [==============================] - 0s 84ms/step\n"
     ]
    },
    {
     "data": {
      "text/plain": [
       "3"
      ]
     },
     "execution_count": 21,
     "metadata": {},
     "output_type": "execute_result"
    }
   ],
   "source": [
    "np.argmax(model.predict(x))"
   ]
  }
 ],
 "metadata": {
  "kernelspec": {
   "display_name": "Python 3 (ipykernel)",
   "language": "python",
   "name": "python3"
  },
  "language_info": {
   "codemirror_mode": {
    "name": "ipython",
    "version": 3
   },
   "file_extension": ".py",
   "mimetype": "text/x-python",
   "name": "python",
   "nbconvert_exporter": "python",
   "pygments_lexer": "ipython3",
   "version": "3.9.16"
  }
 },
 "nbformat": 4,
 "nbformat_minor": 5
}
