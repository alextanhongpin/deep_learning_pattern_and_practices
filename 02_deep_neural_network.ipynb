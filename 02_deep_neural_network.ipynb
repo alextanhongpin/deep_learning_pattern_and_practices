{
 "cells": [
  {
   "cell_type": "markdown",
   "id": "b5cdbc1f-349a-4fa4-b5db-3dd4548fd37f",
   "metadata": {},
   "source": [
    "# Deep Neural Networks\n",
    "\n",
    "- _input layer_ takes in number. Input data such as text, speech, image is converted to numbers.\n",
    "- `scalar` is a single value\n",
    "- `vector` is a 1D array of values, e.g. list of numbers\n",
    "- `matrix` is a 2D array of values, e.g. pixels in a black-white image\n",
    "- `tensor` is a 3D or more array of values, e.g. an image with three channels\n",
    "- `normalization` is transforming features to have the same scale [^1]\n",
    "- `standardization` is converting numbers to have mean zero, standard deviation of one\n",
    "\n",
    "[^1]: https://developers.google.com/machine-learning/data-prep/transform/normalization"
   ]
  },
  {
   "cell_type": "code",
   "execution_count": 1,
   "id": "519c005e-ea9a-4657-9cfc-65128ef0bf1b",
   "metadata": {
    "tags": []
   },
   "outputs": [
    {
     "name": "stderr",
     "output_type": "stream",
     "text": [
      "2023-03-01 23:30:32.766524: I tensorflow/core/platform/cpu_feature_guard.cc:193] This TensorFlow binary is optimized with oneAPI Deep Neural Network Library (oneDNN) to use the following CPU instructions in performance-critical operations:  AVX2 FMA\n",
      "To enable them in other operations, rebuild TensorFlow with the appropriate compiler flags.\n"
     ]
    }
   ],
   "source": [
    "import tensorflow"
   ]
  },
  {
   "cell_type": "code",
   "execution_count": 3,
   "id": "588fcee9-5d9f-4095-8d50-483694975920",
   "metadata": {
    "tags": []
   },
   "outputs": [
    {
     "data": {
      "text/plain": [
       "'2.11.0'"
      ]
     },
     "execution_count": 3,
     "metadata": {},
     "output_type": "execute_result"
    }
   ],
   "source": [
    "# Always check the version used.\n",
    "tensorflow.__version__"
   ]
  },
  {
   "cell_type": "code",
   "execution_count": 7,
   "id": "7ae2832d-888b-498d-91ac-ad875ae784cf",
   "metadata": {
    "tags": []
   },
   "outputs": [
    {
     "data": {
      "text/plain": [
       "<KerasTensor: shape=(None, 13) dtype=float32 (created by layer 'input_1')>"
      ]
     },
     "execution_count": 7,
     "metadata": {},
     "output_type": "execute_result"
    }
   ],
   "source": [
    "from tensorflow.keras import Input\n",
    "\n",
    "# Input?\n",
    "Input(shape=(13,))"
   ]
  },
  {
   "cell_type": "markdown",
   "id": "d9b62cca-a634-4624-aa7a-70cb01d17571",
   "metadata": {},
   "source": [
    "We specify that the input should be a row with 13 elements. \n",
    "\n",
    "- the `None` in `shape` refers to the batch size, which is unknown\n",
    "- the `dtype` defaults to single-precision, `float32`"
   ]
  },
  {
   "cell_type": "markdown",
   "id": "1f896456-978d-44cb-8624-370edb9310ef",
   "metadata": {},
   "source": [
    "## Basic Dense Layer"
   ]
  },
  {
   "cell_type": "code",
   "execution_count": 8,
   "id": "5f24babe-57fd-4a53-8504-8f85fe55b249",
   "metadata": {
    "tags": []
   },
   "outputs": [],
   "source": [
    "from tensorflow.keras import Input, Model\n",
    "from tensorflow.keras.layers import Dense"
   ]
  },
  {
   "cell_type": "code",
   "execution_count": 10,
   "id": "1666e243-a6aa-4d00-b65b-a813dc344780",
   "metadata": {
    "tags": []
   },
   "outputs": [
    {
     "name": "stdout",
     "output_type": "stream",
     "text": [
      "Model: \"model_1\"\n",
      "_________________________________________________________________\n",
      " Layer (type)                Output Shape              Param #   \n",
      "=================================================================\n",
      " input_5 (InputLayer)        [(None, 10)]              0         \n",
      "                                                                 \n",
      " dense_4 (Dense)             (None, 10)                110       \n",
      "                                                                 \n",
      " dense_5 (Dense)             (None, 1)                 11        \n",
      "                                                                 \n",
      "=================================================================\n",
      "Total params: 121\n",
      "Trainable params: 121\n",
      "Non-trainable params: 0\n",
      "_________________________________________________________________\n"
     ]
    }
   ],
   "source": [
    "inputs = Input((13,))  # Takes an array with 13 elements\n",
    "input = Dense(10)(inputs)\n",
    "hidden = Dense(10)(input)\n",
    "output = Dense(1)(hidden)\n",
    "model = Model(input, output)\n",
    "model.summary()"
   ]
  },
  {
   "cell_type": "markdown",
   "id": "d5e41d59-6d07-418e-8fef-27f006a78284",
   "metadata": {},
   "source": [
    "## Activation Functions\n",
    "\n",
    "Activation functions assist in finding the nonlinear separation.\n",
    "\n",
    "Types of activation function:\n",
    "- rectified linear unit (ReLU)\n",
    "- sigmoid\n",
    "- softmax"
   ]
  },
  {
   "cell_type": "code",
   "execution_count": 11,
   "id": "58ae86c7-67d1-49f8-bac7-4f91e6fb7c3e",
   "metadata": {
    "tags": []
   },
   "outputs": [
    {
     "name": "stdout",
     "output_type": "stream",
     "text": [
      "Model: \"sequential\"\n",
      "_________________________________________________________________\n",
      " Layer (type)                Output Shape              Param #   \n",
      "=================================================================\n",
      " dense_6 (Dense)             (None, 10)                140       \n",
      "                                                                 \n",
      " re_lu (ReLU)                (None, 10)                0         \n",
      "                                                                 \n",
      " dense_7 (Dense)             (None, 10)                110       \n",
      "                                                                 \n",
      " re_lu_1 (ReLU)              (None, 10)                0         \n",
      "                                                                 \n",
      " dense_8 (Dense)             (None, 1)                 11        \n",
      "                                                                 \n",
      "=================================================================\n",
      "Total params: 261\n",
      "Trainable params: 261\n",
      "Non-trainable params: 0\n",
      "_________________________________________________________________\n"
     ]
    }
   ],
   "source": [
    "from tensorflow.keras import Sequential\n",
    "from tensorflow.keras.layers import Dense, ReLU\n",
    "\n",
    "model = Sequential()\n",
    "model.add(Dense(10, input_shape=(13,)))\n",
    "model.add(ReLU())  # Convention is to add ReLU to each non-output layer.\n",
    "model.add(Dense(10))\n",
    "model.add(ReLU())  # Convention is to add ReLU to each non-output layer.\n",
    "model.add(Dense(1))\n",
    "model.summary()"
   ]
  },
  {
   "cell_type": "markdown",
   "id": "abca0bab-59b7-4572-86a0-237992007a7d",
   "metadata": {},
   "source": [
    "## Shorthand syntax\n",
    "\n",
    "> `summary` doesn't show the `relu` layer if we use the shorthand syntax."
   ]
  },
  {
   "cell_type": "code",
   "execution_count": 16,
   "id": "05597dde-aa24-49c4-8aaa-7392c5e12c95",
   "metadata": {
    "tags": []
   },
   "outputs": [
    {
     "name": "stdout",
     "output_type": "stream",
     "text": [
      "Model: \"sequential_4\"\n",
      "_________________________________________________________________\n",
      " Layer (type)                Output Shape              Param #   \n",
      "=================================================================\n",
      " dense_18 (Dense)            (None, 10)                140       \n",
      "                                                                 \n",
      " dense_19 (Dense)            (None, 10)                110       \n",
      "                                                                 \n",
      " dense_20 (Dense)            (None, 1)                 11        \n",
      "                                                                 \n",
      "=================================================================\n",
      "Total params: 261\n",
      "Trainable params: 261\n",
      "Non-trainable params: 0\n",
      "_________________________________________________________________\n"
     ]
    }
   ],
   "source": [
    "model = Sequential()\n",
    "model.add(Dense(10, input_shape=(13,), activation=\"relu\"))\n",
    "model.add(Dense(10, activation=\"relu\"))\n",
    "model.add(Dense(1))\n",
    "model.summary()"
   ]
  },
  {
   "cell_type": "markdown",
   "id": "f95654bc-f498-46c8-8e1a-1dca8740d104",
   "metadata": {},
   "source": [
    "There is a third-option, using `Activation` function."
   ]
  },
  {
   "cell_type": "code",
   "execution_count": 17,
   "id": "05fec539-6539-4db7-b813-095aaacb20b1",
   "metadata": {
    "tags": []
   },
   "outputs": [],
   "source": [
    "from tensorflow.keras.layers import Activation"
   ]
  },
  {
   "cell_type": "code",
   "execution_count": 18,
   "id": "2ba7ed90-dc2a-4650-ace5-4c24a8930061",
   "metadata": {
    "tags": []
   },
   "outputs": [
    {
     "name": "stdout",
     "output_type": "stream",
     "text": [
      "Model: \"sequential_5\"\n",
      "_________________________________________________________________\n",
      " Layer (type)                Output Shape              Param #   \n",
      "=================================================================\n",
      " dense_21 (Dense)            (None, 10)                140       \n",
      "                                                                 \n",
      " activation (Activation)     (None, 10)                0         \n",
      "                                                                 \n",
      " dense_22 (Dense)            (None, 10)                110       \n",
      "                                                                 \n",
      " activation_1 (Activation)   (None, 10)                0         \n",
      "                                                                 \n",
      " dense_23 (Dense)            (None, 1)                 11        \n",
      "                                                                 \n",
      "=================================================================\n",
      "Total params: 261\n",
      "Trainable params: 261\n",
      "Non-trainable params: 0\n",
      "_________________________________________________________________\n"
     ]
    }
   ],
   "source": [
    "model = Sequential()\n",
    "model.add(Dense(10, input_shape=(13,)))\n",
    "model.add(Activation(\"relu\"))\n",
    "model.add(Dense(10))\n",
    "model.add(Activation(\"relu\"))\n",
    "model.add(Dense(1))\n",
    "model.summary()"
   ]
  },
  {
   "cell_type": "markdown",
   "id": "6676254b-5ec6-4768-bb99-b50b326d03b4",
   "metadata": {
    "tags": []
   },
   "source": [
    "## DNN Binary Classifier\n",
    "\n",
    "_Binary classifier_ (aka _logistic classifier_) predicts whether the input is or is not something.\n",
    "\n",
    "a) A `sigmoid` is used for a binary classification\n",
    "b) Common convention for loss and optimizer for binary classifier"
   ]
  },
  {
   "cell_type": "code",
   "execution_count": 14,
   "id": "d4bbd3d3-7ff7-4249-8df0-49a4c04f76d0",
   "metadata": {
    "tags": []
   },
   "outputs": [
    {
     "name": "stdout",
     "output_type": "stream",
     "text": [
      "Model: \"sequential_2\"\n",
      "_________________________________________________________________\n",
      " Layer (type)                Output Shape              Param #   \n",
      "=================================================================\n",
      " dense_12 (Dense)            (None, 10)                140       \n",
      "                                                                 \n",
      " dense_13 (Dense)            (None, 10)                110       \n",
      "                                                                 \n",
      " dense_14 (Dense)            (None, 1)                 11        \n",
      "                                                                 \n",
      "=================================================================\n",
      "Total params: 261\n",
      "Trainable params: 261\n",
      "Non-trainable params: 0\n",
      "_________________________________________________________________\n"
     ]
    }
   ],
   "source": [
    "from tensorflow.keras import Sequential\n",
    "from tensorflow.keras.layers import Dense\n",
    "\n",
    "model = Sequential()\n",
    "model.add(Dense(10, input_shape=(13,), activation=\"relu\"))\n",
    "model.add(Dense(10, activation=\"relu\"))\n",
    "model.add(Dense(1, activation=\"sigmoid\"))  # a)\n",
    "model.compile(\n",
    "    loss=\"binary_crossentropy\", optimizer=\"rmsprop\", metrics=[\"accuracy\"]\n",
    ")  # b)\n",
    "model.summary()"
   ]
  },
  {
   "cell_type": "markdown",
   "id": "48c51d77-875e-4b18-ad13-9d09faccde6c",
   "metadata": {},
   "source": [
    "## DNN Multiclass Classifier\n",
    "\n",
    "This model classify the inputs to one or more labels."
   ]
  },
  {
   "cell_type": "code",
   "execution_count": 20,
   "id": "82d55446-066a-4e33-878d-3964407df3b2",
   "metadata": {
    "tags": []
   },
   "outputs": [
    {
     "name": "stdout",
     "output_type": "stream",
     "text": [
      "Model: \"sequential_7\"\n",
      "_________________________________________________________________\n",
      " Layer (type)                Output Shape              Param #   \n",
      "=================================================================\n",
      " dense_27 (Dense)            (None, 10)                50        \n",
      "                                                                 \n",
      " dense_28 (Dense)            (None, 10)                110       \n",
      "                                                                 \n",
      " dense_29 (Dense)            (None, 5)                 55        \n",
      "                                                                 \n",
      "=================================================================\n",
      "Total params: 215\n",
      "Trainable params: 215\n",
      "Non-trainable params: 0\n",
      "_________________________________________________________________\n"
     ]
    }
   ],
   "source": [
    "from tensorflow.keras import Sequential\n",
    "from tensorflow.keras.layers import Dense\n",
    "\n",
    "model = Sequential()\n",
    "model.add(Dense(10, input_shape=(4,), activation=\"relu\"))\n",
    "model.add(Dense(10, activation=\"relu\"))\n",
    "model.add(\n",
    "    Dense(5, activation=\"softmax\")\n",
    ")  # Softmax activation is used for a multiclass classifier.\n",
    "model.compile(loss=\"categorical_crossentropy\", optimizer=\"adam\", metrics=[\"accuracy\"])\n",
    "model.summary()"
   ]
  },
  {
   "cell_type": "markdown",
   "id": "653a0edd-ed11-4993-9d22-fecc370ae66b",
   "metadata": {},
   "source": [
    "## DNN Multilabel Multiclass Classifier\n",
    "\n",
    "This model predicts two or more classes per input. We use `functional` instead of `sequential` model."
   ]
  },
  {
   "cell_type": "code",
   "execution_count": 23,
   "id": "0de1c0fb-0d12-4630-9d7f-765e299135b4",
   "metadata": {
    "tags": []
   },
   "outputs": [
    {
     "name": "stdout",
     "output_type": "stream",
     "text": [
      "Model: \"model_3\"\n",
      "__________________________________________________________________________________________________\n",
      " Layer (type)                   Output Shape         Param #     Connected to                     \n",
      "==================================================================================================\n",
      " input_7 (InputLayer)           [(None, 3)]          0           []                               \n",
      "                                                                                                  \n",
      " dense_34 (Dense)               (None, 10)           40          ['input_7[0][0]']                \n",
      "                                                                                                  \n",
      " dense_35 (Dense)               (None, 10)           110         ['dense_34[0][0]']               \n",
      "                                                                                                  \n",
      " dense_36 (Dense)               (None, 5)            55          ['dense_35[0][0]']               \n",
      "                                                                                                  \n",
      " dense_37 (Dense)               (None, 2)            22          ['dense_35[0][0]']               \n",
      "                                                                                                  \n",
      "==================================================================================================\n",
      "Total params: 227\n",
      "Trainable params: 227\n",
      "Non-trainable params: 0\n",
      "__________________________________________________________________________________________________\n"
     ]
    }
   ],
   "source": [
    "from tensorflow.keras import Input, Model\n",
    "from tensorflow.keras.layers import Dense\n",
    "\n",
    "inputs = Input((3,))\n",
    "x = Dense(10, activation=\"relu\")(inputs)\n",
    "x = Dense(10, activation=\"relu\")(x)\n",
    "output1 = Dense(5, activation=\"softmax\")(x)  # Predicts one of five classes.\n",
    "output2 = Dense(2, activation=\"softmax\")(x)  # Predicts one of two classes.\n",
    "model = Model(inputs, [output1, output2])\n",
    "model.compile(loss=\"categorical_crossentropy\", optimizer=\"adam\", metrics=[\"accuracy\"])\n",
    "model.summary()"
   ]
  }
 ],
 "metadata": {
  "kernelspec": {
   "display_name": "Python 3 (ipykernel)",
   "language": "python",
   "name": "python3"
  },
  "language_info": {
   "codemirror_mode": {
    "name": "ipython",
    "version": 3
   },
   "file_extension": ".py",
   "mimetype": "text/x-python",
   "name": "python",
   "nbconvert_exporter": "python",
   "pygments_lexer": "ipython3",
   "version": "3.9.16"
  }
 },
 "nbformat": 4,
 "nbformat_minor": 5
}
